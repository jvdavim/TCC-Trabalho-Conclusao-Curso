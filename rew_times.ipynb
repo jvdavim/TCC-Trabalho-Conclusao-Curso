{
 "cells": [
  {
   "cell_type": "code",
   "execution_count": 1,
   "source": [
    "import os\n",
    "import warnings\n",
    "import importlib\n",
    "\n",
    "import pandas as pd\n",
    "\n",
    "from rew import RegressionWisardEstimator\n",
    "\n",
    "%load_ext memory_profiler"
   ],
   "outputs": [],
   "metadata": {}
  },
  {
   "cell_type": "code",
   "execution_count": 2,
   "source": [
    "test_size = 7\n",
    "datasets = [{\n",
    "    'name': 'casos_confirmados',\n",
    "    'path': 'data/covid/casos_confirmados.csv'\n",
    "}, {\n",
    "    'name': 'sinteticos',\n",
    "    'path': 'data/sinteticos/sinteticos.csv'\n",
    "}, {\n",
    "    'name': 'temperaturas',\n",
    "    'path': 'data/temperatura_minima_diaria/temperaturas.csv'\n",
    "}]\n",
    "metrics = ['rmse', 'mape', 'mae', 'mpe']"
   ],
   "outputs": [],
   "metadata": {}
  },
  {
   "cell_type": "code",
   "execution_count": 3,
   "source": [
    "warnings.filterwarnings('ignore')\n",
    "for dataset in datasets:\n",
    "    ts = pd.read_csv(dataset['path'], index_col=0, sep=';')\n",
    "    grid_results_df = pd.read_csv(os.path.join('results/rew', f\"{dataset['name']}_grid_results.csv\"), sep=';')\n",
    "    for metric in metrics:\n",
    "        print(f\"Dataset: {dataset['name']} | Optimization Metric: {metric.upper()}\")\n",
    "\n",
    "        best = grid_results_df[grid_results_df[metric].abs().eq(grid_results_df[metric].abs().min())].iloc[0]\n",
    "        thermometer = (best.t_size, best.t_min, best.t_max)\n",
    "        order = (best.p, best.d, best.q)\n",
    "        addr = best.addr\n",
    "        module = importlib.import_module('wisardpkg')\n",
    "        class_ = getattr(module, best.mean_type)\n",
    "        mean = class_() if best.mean_type != 'PowerMean' else class_(2)\n",
    "        print(f\"Parameters: Order={order} Addr={addr} Thermometer={thermometer} MeanType={best.mean_type}\")\n",
    "\n",
    "\n",
    "        # Train ReW model with selected hyperparams and train + validation data\n",
    "        %timeit -n10 RegressionWisardEstimator(ts, thermometer, addr, order=order, mean=mean).fit()\n",
    "        model = RegressionWisardEstimator(ts, thermometer, addr, order=order, mean=mean).fit()\n",
    "        %timeit -n100 forecast = model.forecast(steps=test_size)"
   ],
   "outputs": [
    {
     "output_type": "stream",
     "name": "stdout",
     "text": [
      "Dataset: casos_confirmados | Optimization Metric: RMSE\n",
      "Parameters: Order=(3, 0, 0) Addr=23 Thermometer=(256, 1180.5, 2543.0) MeanType=SimpleMean\n",
      "9.15 ms ± 167 µs per loop (mean ± std. dev. of 7 runs, 10 loops each)\n",
      "142 µs ± 2.8 µs per loop (mean ± std. dev. of 7 runs, 100 loops each)\n",
      "Dataset: casos_confirmados | Optimization Metric: MAPE\n",
      "Parameters: Order=(0, 0, 3) Addr=24 Thermometer=(256, 885.625, 3407.0) MeanType=HarmonicMean\n",
      "4.46 ms ± 75.1 µs per loop (mean ± std. dev. of 7 runs, 10 loops each)\n",
      "87.6 µs ± 1.22 µs per loop (mean ± std. dev. of 7 runs, 100 loops each)\n",
      "Dataset: casos_confirmados | Optimization Metric: MAE\n",
      "Parameters: Order=(3, 0, 0) Addr=23 Thermometer=(256, 1180.5, 2543.0) MeanType=SimpleMean\n",
      "8.65 ms ± 126 µs per loop (mean ± std. dev. of 7 runs, 10 loops each)\n",
      "145 µs ± 2.3 µs per loop (mean ± std. dev. of 7 runs, 100 loops each)\n",
      "Dataset: casos_confirmados | Optimization Metric: MPE\n",
      "Parameters: Order=(0, 0, 3) Addr=24 Thermometer=(256, 885.625, 3407.0) MeanType=HarmonicMean\n",
      "4.41 ms ± 151 µs per loop (mean ± std. dev. of 7 runs, 10 loops each)\n",
      "91 µs ± 638 ns per loop (mean ± std. dev. of 7 runs, 100 loops each)\n",
      "Dataset: sinteticos | Optimization Metric: RMSE\n",
      "Parameters: Order=(9, 0, 0) Addr=12 Thermometer=(256, -201.3, 2008.45) MeanType=SimpleMean\n",
      "9.97 ms ± 143 µs per loop (mean ± std. dev. of 7 runs, 10 loops each)\n",
      "330 µs ± 4.67 µs per loop (mean ± std. dev. of 7 runs, 100 loops each)\n",
      "Dataset: sinteticos | Optimization Metric: MAPE\n",
      "Parameters: Order=(9, 0, 1) Addr=5 Thermometer=(256, -201.3, 2008.45) MeanType=SimpleMean\n",
      "10.1 ms ± 166 µs per loop (mean ± std. dev. of 7 runs, 10 loops each)\n",
      "494 µs ± 12.8 µs per loop (mean ± std. dev. of 7 runs, 100 loops each)\n",
      "Dataset: sinteticos | Optimization Metric: MAE\n",
      "Parameters: Order=(9, 0, 0) Addr=5 Thermometer=(256, -201.3, 2008.45) MeanType=SimpleMean\n",
      "10.5 ms ± 116 µs per loop (mean ± std. dev. of 7 runs, 10 loops each)\n",
      "512 µs ± 7.91 µs per loop (mean ± std. dev. of 7 runs, 100 loops each)\n",
      "Dataset: sinteticos | Optimization Metric: MPE\n",
      "Parameters: Order=(7, 0, 4) Addr=5 Thermometer=(256, 402.475, 2008.45) MeanType=SimpleMean\n",
      "8.86 ms ± 123 µs per loop (mean ± std. dev. of 7 runs, 10 loops each)\n",
      "422 µs ± 8.16 µs per loop (mean ± std. dev. of 7 runs, 100 loops each)\n",
      "Dataset: temperaturas | Optimization Metric: RMSE\n",
      "Parameters: Order=(3, 0, 9) Addr=16 Thermometer=(256, 8.3, 17.075) MeanType=Median\n",
      "31.2 ms ± 526 µs per loop (mean ± std. dev. of 7 runs, 10 loops each)\n",
      "149 µs ± 349 ns per loop (mean ± std. dev. of 7 runs, 100 loops each)\n",
      "Dataset: temperaturas | Optimization Metric: MAPE\n",
      "Parameters: Order=(0, 0, 9) Addr=18 Thermometer=(512, 4.15, 26.3) MeanType=ExponentialMean\n",
      "19.5 ms ± 409 µs per loop (mean ± std. dev. of 7 runs, 10 loops each)\n",
      "106 µs ± 339 ns per loop (mean ± std. dev. of 7 runs, 100 loops each)\n",
      "Dataset: temperaturas | Optimization Metric: MAE\n",
      "Parameters: Order=(0, 0, 9) Addr=18 Thermometer=(512, 4.15, 26.3) MeanType=ExponentialMean\n",
      "19.3 ms ± 149 µs per loop (mean ± std. dev. of 7 runs, 10 loops each)\n",
      "107 µs ± 1.45 µs per loop (mean ± std. dev. of 7 runs, 100 loops each)\n",
      "Dataset: temperaturas | Optimization Metric: MPE\n",
      "Parameters: Order=(4, 0, 4) Addr=22 Thermometer=(512, 0.0, 14.0) MeanType=SimpleMean\n",
      "64.7 ms ± 549 µs per loop (mean ± std. dev. of 7 runs, 10 loops each)\n",
      "232 µs ± 6.43 µs per loop (mean ± std. dev. of 7 runs, 100 loops each)\n"
     ]
    }
   ],
   "metadata": {}
  }
 ],
 "metadata": {
  "interpreter": {
   "hash": "fd325efec9a68db077b8754384aa777333950c564b1fdcf078307eae7d5f181a"
  },
  "kernelspec": {
   "name": "python3",
   "display_name": "Python 3.8.5 64-bit ('tcc': conda)"
  },
  "language_info": {
   "codemirror_mode": {
    "name": "ipython",
    "version": 3
   },
   "file_extension": ".py",
   "mimetype": "text/x-python",
   "name": "python",
   "nbconvert_exporter": "python",
   "pygments_lexer": "ipython3",
   "version": "3.8.5"
  },
  "orig_nbformat": 4
 },
 "nbformat": 4,
 "nbformat_minor": 2
}