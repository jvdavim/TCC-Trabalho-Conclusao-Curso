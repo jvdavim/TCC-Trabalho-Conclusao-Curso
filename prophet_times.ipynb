{
 "cells": [
  {
   "cell_type": "code",
   "execution_count": 1,
   "source": [
    "import os\n",
    "import warnings\n",
    "\n",
    "import numpy as np\n",
    "import pandas as pd\n",
    "\n",
    "from fbprophet import Prophet\n",
    "\n",
    "%load_ext memory_profiler"
   ],
   "outputs": [
    {
     "output_type": "stream",
     "name": "stderr",
     "text": [
      "Importing plotly failed. Interactive plots will not work.\n"
     ]
    }
   ],
   "metadata": {}
  },
  {
   "cell_type": "code",
   "execution_count": 2,
   "source": [
    "test_size = 7\n",
    "datasets = [{\n",
    "    'name': 'casos_confirmados',\n",
    "    'path': 'data/covid/casos_confirmados.csv'\n",
    "}, {\n",
    "    'name': 'sinteticos',\n",
    "    'path': 'data/sinteticos/sinteticos.csv'\n",
    "}, {\n",
    "    'name': 'temperaturas',\n",
    "    'path': 'data/temperatura_minima_diaria/temperaturas.csv'\n",
    "}]\n",
    "metrics = ['rmse', 'mape', 'mae', 'mpe']"
   ],
   "outputs": [],
   "metadata": {}
  },
  {
   "cell_type": "code",
   "execution_count": 3,
   "source": [
    "parameters = {\n",
    "    'growth': 'linear',\n",
    "    'changepoints': None,\n",
    "    'n_changepoints': 25,\n",
    "    'changepoint_range': 0.8,\n",
    "    'yearly_seasonality': 'auto',\n",
    "    'weekly_seasonality': 'auto',\n",
    "    'daily_seasonality': 'auto',\n",
    "    'holidays': None,\n",
    "    'seasonality_mode': 'additive',\n",
    "    'seasonality_prior_scale': 10.0,\n",
    "    'holidays_prior_scale': 10.0,\n",
    "    'changepoint_prior_scale': 0.05,\n",
    "    'mcmc_samples': 0,\n",
    "    'interval_width': 0.80,\n",
    "    'uncertainty_samples': 1000,\n",
    "    'stan_backend': None\n",
    "}"
   ],
   "outputs": [],
   "metadata": {}
  },
  {
   "cell_type": "code",
   "execution_count": 4,
   "source": [
    "warnings.filterwarnings('ignore')\n",
    "for dataset in datasets:\n",
    "    ts = pd.read_csv(dataset['path'], sep=';')\n",
    "    ts.columns = ['ds', 'y']\n",
    "\n",
    "    if dataset['name'] == 'casos_confirmados':\n",
    "        parameters['growth'] = 'logistic'\n",
    "        ts['floor'] = 0\n",
    "        ts['cap'] = 2000\n",
    "        parameters['daily_seasonality'] = False\n",
    "        parameters['weekly_seasonality'] = True\n",
    "        parameters['yearly_seasonality'] = False\n",
    "    elif dataset['name'] == 'temperaturas':\n",
    "        parameters['growth'] = 'logistic'\n",
    "        ts['cap'] = 30\n",
    "        ts['floor'] = -5\n",
    "        parameters['daily_seasonality'] = True\n",
    "        parameters['weekly_seasonality'] = False\n",
    "        parameters['yearly_seasonality'] = True\n",
    "    else:\n",
    "        ts['cap'] = None\n",
    "        ts['floor'] = None\n",
    "        parameters['daily_seasonality'] = False\n",
    "        parameters['weekly_seasonality'] = True\n",
    "        parameters['yearly_seasonality'] = False\n",
    "\n",
    "    grid_results_df = pd.read_csv(os.path.join('results/prophet', f\"{dataset['name']}_grid_results.csv\"), sep=';')\n",
    "\n",
    "    for metric in metrics:\n",
    "        print(f\"Dataset: {dataset['name']} | Optimization Metric: {metric.upper()}\")\n",
    "\n",
    "        best = grid_results_df[grid_results_df[metric].abs().eq(grid_results_df[metric].abs().min())].iloc[0]\n",
    "        params = best.iloc[:-4].to_dict()\n",
    "        params = {k: v for k, v in params.items() if not (np.isnan(v) if type(v) == np.float64 else False)}\n",
    "        parameters.update(params)\n",
    "        print(f\"Parameters: {' '.join(['{}={}'.format(pkey, pvalue) for pkey, pvalue in parameters.items()])}\")\n",
    "        try:\n",
    "            %timeit -n10 Prophet(**parameters).fit(ts)  # Fit model with given params\n",
    "            m = Prophet(**parameters).fit(ts)  # Fit model with given params\n",
    "            future = m.make_future_dataframe(periods=test_size)\n",
    "            future['floor'] = ts.loc[:, 'floor'].iloc[0]\n",
    "            future['cap'] = ts.loc[:, 'cap'].iloc[0]\n",
    "            %timeit -n100 forecast = m.predict(future)\n",
    "        except RuntimeError:\n",
    "            print(f'[ERROR] Error with following hyperparameters: {parameters}')"
   ],
   "outputs": [
    {
     "output_type": "stream",
     "name": "stdout",
     "text": [
      "Dataset: casos_confirmados | Optimization Metric: RMSE\n",
      "Parameters: growth=logistic changepoints=None n_changepoints=15 changepoint_range=0.8 yearly_seasonality=False weekly_seasonality=True daily_seasonality=False holidays=None seasonality_mode=additive seasonality_prior_scale=0.01 holidays_prior_scale=10.0 changepoint_prior_scale=0.001 mcmc_samples=0 interval_width=0.8 uncertainty_samples=1000 stan_backend=None\n",
      "56.5 ms ± 17.9 ms per loop (mean ± std. dev. of 7 runs, 10 loops each)\n",
      "1.26 s ± 10.7 ms per loop (mean ± std. dev. of 7 runs, 100 loops each)\n",
      "Dataset: casos_confirmados | Optimization Metric: MAPE\n",
      "Parameters: growth=logistic changepoints=None n_changepoints=15 changepoint_range=0.8 yearly_seasonality=False weekly_seasonality=True daily_seasonality=False holidays=None seasonality_mode=additive seasonality_prior_scale=1.0 holidays_prior_scale=10.0 changepoint_prior_scale=0.001 mcmc_samples=0 interval_width=0.8 uncertainty_samples=1000 stan_backend=None\n",
      "46 ms ± 63.1 µs per loop (mean ± std. dev. of 7 runs, 10 loops each)\n",
      "1.25 s ± 1.59 ms per loop (mean ± std. dev. of 7 runs, 100 loops each)\n",
      "Dataset: casos_confirmados | Optimization Metric: MAE\n",
      "Parameters: growth=logistic changepoints=None n_changepoints=15 changepoint_range=0.8 yearly_seasonality=False weekly_seasonality=True daily_seasonality=False holidays=None seasonality_mode=additive seasonality_prior_scale=0.01 holidays_prior_scale=10.0 changepoint_prior_scale=0.001 mcmc_samples=0 interval_width=0.8 uncertainty_samples=1000 stan_backend=None\n",
      "44.6 ms ± 109 µs per loop (mean ± std. dev. of 7 runs, 10 loops each)\n",
      "1.25 s ± 1.29 ms per loop (mean ± std. dev. of 7 runs, 100 loops each)\n",
      "Dataset: casos_confirmados | Optimization Metric: MPE\n",
      "Parameters: growth=logistic changepoints=None n_changepoints=15 changepoint_range=0.8 yearly_seasonality=False weekly_seasonality=True daily_seasonality=False holidays=None seasonality_mode=additive seasonality_prior_scale=1.0 holidays_prior_scale=10.0 changepoint_prior_scale=0.001 mcmc_samples=0 interval_width=0.8 uncertainty_samples=1000 stan_backend=None\n",
      "46 ms ± 72.1 µs per loop (mean ± std. dev. of 7 runs, 10 loops each)\n",
      "1.25 s ± 1.26 ms per loop (mean ± std. dev. of 7 runs, 100 loops each)\n",
      "Dataset: sinteticos | Optimization Metric: RMSE\n",
      "Parameters: growth=linear changepoints=None n_changepoints=15 changepoint_range=0.8 yearly_seasonality=False weekly_seasonality=True daily_seasonality=False holidays=None seasonality_mode=multiplicative seasonality_prior_scale=0.01 holidays_prior_scale=10.0 changepoint_prior_scale=0.1 mcmc_samples=0 interval_width=0.8 uncertainty_samples=1000 stan_backend=None\n",
      "60.7 ms ± 87 µs per loop (mean ± std. dev. of 7 runs, 10 loops each)\n",
      "898 ms ± 768 µs per loop (mean ± std. dev. of 7 runs, 100 loops each)\n",
      "Dataset: sinteticos | Optimization Metric: MAPE\n",
      "Parameters: growth=linear changepoints=None n_changepoints=15 changepoint_range=0.8 yearly_seasonality=False weekly_seasonality=True daily_seasonality=False holidays=None seasonality_mode=multiplicative seasonality_prior_scale=0.01 holidays_prior_scale=10.0 changepoint_prior_scale=0.1 mcmc_samples=0 interval_width=0.8 uncertainty_samples=1000 stan_backend=None\n",
      "60.9 ms ± 174 µs per loop (mean ± std. dev. of 7 runs, 10 loops each)\n",
      "906 ms ± 600 µs per loop (mean ± std. dev. of 7 runs, 100 loops each)\n",
      "Dataset: sinteticos | Optimization Metric: MAE\n",
      "Parameters: growth=linear changepoints=None n_changepoints=15 changepoint_range=0.8 yearly_seasonality=False weekly_seasonality=True daily_seasonality=False holidays=None seasonality_mode=multiplicative seasonality_prior_scale=0.01 holidays_prior_scale=10.0 changepoint_prior_scale=0.1 mcmc_samples=0 interval_width=0.8 uncertainty_samples=1000 stan_backend=None\n",
      "61.1 ms ± 177 µs per loop (mean ± std. dev. of 7 runs, 10 loops each)\n",
      "898 ms ± 753 µs per loop (mean ± std. dev. of 7 runs, 100 loops each)\n",
      "Dataset: sinteticos | Optimization Metric: MPE\n",
      "Parameters: growth=linear changepoints=None n_changepoints=15 changepoint_range=0.8 yearly_seasonality=False weekly_seasonality=True daily_seasonality=False holidays=None seasonality_mode=additive seasonality_prior_scale=10.0 holidays_prior_scale=10.0 changepoint_prior_scale=0.1 mcmc_samples=0 interval_width=0.8 uncertainty_samples=1000 stan_backend=None\n",
      "68.1 ms ± 178 µs per loop (mean ± std. dev. of 7 runs, 10 loops each)\n",
      "899 ms ± 1.24 ms per loop (mean ± std. dev. of 7 runs, 100 loops each)\n",
      "Dataset: temperaturas | Optimization Metric: RMSE\n",
      "Parameters: growth=logistic changepoints=None n_changepoints=15 changepoint_range=0.8 yearly_seasonality=True weekly_seasonality=False daily_seasonality=True holidays=None seasonality_mode=multiplicative seasonality_prior_scale=0.1 holidays_prior_scale=10.0 changepoint_prior_scale=0.001 mcmc_samples=0 interval_width=0.8 uncertainty_samples=1000 stan_backend=None\n",
      "205 ms ± 176 µs per loop (mean ± std. dev. of 7 runs, 10 loops each)\n",
      "1.88 s ± 3.79 ms per loop (mean ± std. dev. of 7 runs, 100 loops each)\n",
      "Dataset: temperaturas | Optimization Metric: MAPE\n",
      "Parameters: growth=logistic changepoints=None n_changepoints=25 changepoint_range=0.8 yearly_seasonality=True weekly_seasonality=False daily_seasonality=True holidays=None seasonality_mode=multiplicative seasonality_prior_scale=0.1 holidays_prior_scale=10.0 changepoint_prior_scale=0.001 mcmc_samples=0 interval_width=0.8 uncertainty_samples=1000 stan_backend=None\n",
      "179 ms ± 514 µs per loop (mean ± std. dev. of 7 runs, 10 loops each)\n",
      "2.13 s ± 711 µs per loop (mean ± std. dev. of 7 runs, 100 loops each)\n",
      "Dataset: temperaturas | Optimization Metric: MAE\n",
      "Parameters: growth=logistic changepoints=None n_changepoints=25 changepoint_range=0.8 yearly_seasonality=True weekly_seasonality=False daily_seasonality=True holidays=None seasonality_mode=multiplicative seasonality_prior_scale=0.1 holidays_prior_scale=10.0 changepoint_prior_scale=0.001 mcmc_samples=0 interval_width=0.8 uncertainty_samples=1000 stan_backend=None\n",
      "180 ms ± 396 µs per loop (mean ± std. dev. of 7 runs, 10 loops each)\n",
      "2.13 s ± 940 µs per loop (mean ± std. dev. of 7 runs, 100 loops each)\n",
      "Dataset: temperaturas | Optimization Metric: MPE\n",
      "Parameters: growth=logistic changepoints=None n_changepoints=15 changepoint_range=0.8 yearly_seasonality=True weekly_seasonality=False daily_seasonality=True holidays=None seasonality_mode=multiplicative seasonality_prior_scale=0.1 holidays_prior_scale=10.0 changepoint_prior_scale=0.001 mcmc_samples=0 interval_width=0.8 uncertainty_samples=1000 stan_backend=None\n",
      "203 ms ± 200 µs per loop (mean ± std. dev. of 7 runs, 10 loops each)\n",
      "1.88 s ± 530 µs per loop (mean ± std. dev. of 7 runs, 100 loops each)\n"
     ]
    }
   ],
   "metadata": {}
  }
 ],
 "metadata": {
  "interpreter": {
   "hash": "fd325efec9a68db077b8754384aa777333950c564b1fdcf078307eae7d5f181a"
  },
  "kernelspec": {
   "name": "python3",
   "display_name": "Python 3.8.5 64-bit ('tcc': conda)"
  },
  "language_info": {
   "name": "python",
   "version": "3.8.5",
   "mimetype": "text/x-python",
   "codemirror_mode": {
    "name": "ipython",
    "version": 3
   },
   "pygments_lexer": "ipython3",
   "nbconvert_exporter": "python",
   "file_extension": ".py"
  },
  "orig_nbformat": 4
 },
 "nbformat": 4,
 "nbformat_minor": 2
}