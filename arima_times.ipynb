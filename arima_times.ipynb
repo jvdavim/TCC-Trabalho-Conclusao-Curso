{
 "cells": [
  {
   "cell_type": "code",
   "execution_count": 1,
   "source": [
    "import os\n",
    "import warnings\n",
    "\n",
    "import pandas as pd\n",
    "from statsmodels.tsa.arima.model import ARIMA"
   ],
   "outputs": [],
   "metadata": {}
  },
  {
   "cell_type": "code",
   "execution_count": 4,
   "source": [
    "test_size = 7\n",
    "datasets = [{\n",
    "    'name': 'casos_confirmados',\n",
    "    'path': 'data/covid/casos_confirmados.csv'\n",
    "}, {\n",
    "    'name': 'sinteticos',\n",
    "    'path': 'data/sinteticos/sinteticos.csv'\n",
    "}, {\n",
    "    'name': 'temperaturas',\n",
    "    'path': 'data/temperatura_minima_diaria/temperaturas.csv'\n",
    "}]\n",
    "metrics = ['rmse', 'mape', 'mae', 'mpe']"
   ],
   "outputs": [],
   "metadata": {}
  },
  {
   "cell_type": "code",
   "execution_count": 6,
   "source": [
    "warnings.filterwarnings('ignore')\n",
    "for dataset in datasets:\n",
    "    ts = pd.read_csv(dataset['path'], index_col=0, sep=';').values\n",
    "    grid_results_df = pd.read_csv(os.path.join('results/arima', f\"{dataset['name']}_grid_results.csv\"), sep=';')\n",
    "    for metric in metrics:\n",
    "        print(f\"Dataset: {dataset['name']} | Optimization Metric: {metric.upper()}\")\n",
    "\n",
    "        best = grid_results_df[grid_results_df[metric].abs().eq(grid_results_df[metric].abs().min())].iloc[0]\n",
    "        order = (best.p, best.d, best.q)\n",
    "        print(f\"Parameters: Order={order}\")\n",
    "        \n",
    "        %timeit -n10 ARIMA(ts, order=order, enforce_stationarity=False, enforce_invertibility=False).fit()\n",
    "        model = ARIMA(ts, order=order, enforce_stationarity=False, enforce_invertibility=False).fit()\n",
    "        %timeit -n100 forecast = model.forecast(steps=test_size)"
   ],
   "outputs": [
    {
     "output_type": "stream",
     "name": "stdout",
     "text": [
      "Dataset: casos_confirmados | Optimization Metric: RMSE\n",
      "Parameters: Order=(0.0, 4.0, 4.0)\n",
      "779 ms ± 2.4 ms per loop (mean ± std. dev. of 7 runs, 10 loops each)\n",
      "960 µs ± 2.51 µs per loop (mean ± std. dev. of 7 runs, 100 loops each)\n",
      "Dataset: casos_confirmados | Optimization Metric: MAPE\n",
      "Parameters: Order=(1.0, 4.0, 6.0)\n",
      "1.34 s ± 2.11 ms per loop (mean ± std. dev. of 7 runs, 10 loops each)\n",
      "970 µs ± 1.83 µs per loop (mean ± std. dev. of 7 runs, 100 loops each)\n",
      "Dataset: casos_confirmados | Optimization Metric: MAE\n",
      "Parameters: Order=(0.0, 4.0, 4.0)\n",
      "779 ms ± 1.2 ms per loop (mean ± std. dev. of 7 runs, 10 loops each)\n",
      "958 µs ± 2.81 µs per loop (mean ± std. dev. of 7 runs, 100 loops each)\n",
      "Dataset: casos_confirmados | Optimization Metric: MPE\n",
      "Parameters: Order=(0.0, 4.0, 8.0)\n",
      "1.61 s ± 1.33 ms per loop (mean ± std. dev. of 7 runs, 10 loops each)\n",
      "959 µs ± 5.72 µs per loop (mean ± std. dev. of 7 runs, 100 loops each)\n",
      "Dataset: sinteticos | Optimization Metric: RMSE\n",
      "Parameters: Order=(0.0, 0.0, 0.0)\n",
      "38.4 ms ± 383 µs per loop (mean ± std. dev. of 7 runs, 10 loops each)\n",
      "1.92 ms ± 28.5 µs per loop (mean ± std. dev. of 7 runs, 100 loops each)\n",
      "Dataset: sinteticos | Optimization Metric: MAPE\n",
      "Parameters: Order=(0.0, 0.0, 0.0)\n",
      "38.3 ms ± 184 µs per loop (mean ± std. dev. of 7 runs, 10 loops each)\n",
      "1.93 ms ± 33.3 µs per loop (mean ± std. dev. of 7 runs, 100 loops each)\n",
      "Dataset: sinteticos | Optimization Metric: MAE\n",
      "Parameters: Order=(0.0, 0.0, 0.0)\n",
      "38.4 ms ± 225 µs per loop (mean ± std. dev. of 7 runs, 10 loops each)\n",
      "1.92 ms ± 24.8 µs per loop (mean ± std. dev. of 7 runs, 100 loops each)\n",
      "Dataset: sinteticos | Optimization Metric: MPE\n",
      "Parameters: Order=(5.0, 5.0, 4.0)\n",
      "566 ms ± 705 µs per loop (mean ± std. dev. of 7 runs, 10 loops each)\n",
      "953 µs ± 27.8 µs per loop (mean ± std. dev. of 7 runs, 100 loops each)\n",
      "Dataset: temperaturas | Optimization Metric: RMSE\n",
      "Parameters: Order=(2.0, 3.0, 6.0)\n",
      "3.61 s ± 5.34 ms per loop (mean ± std. dev. of 7 runs, 10 loops each)\n",
      "951 µs ± 14.4 µs per loop (mean ± std. dev. of 7 runs, 100 loops each)\n",
      "Dataset: temperaturas | Optimization Metric: MAPE\n",
      "Parameters: Order=(2.0, 3.0, 6.0)\n",
      "3.61 s ± 4.68 ms per loop (mean ± std. dev. of 7 runs, 10 loops each)\n",
      "942 µs ± 4.96 µs per loop (mean ± std. dev. of 7 runs, 100 loops each)\n",
      "Dataset: temperaturas | Optimization Metric: MAE\n",
      "Parameters: Order=(2.0, 3.0, 6.0)\n",
      "3.61 s ± 8.5 ms per loop (mean ± std. dev. of 7 runs, 10 loops each)\n",
      "972 µs ± 8.09 µs per loop (mean ± std. dev. of 7 runs, 100 loops each)\n",
      "Dataset: temperaturas | Optimization Metric: MPE\n",
      "Parameters: Order=(1.0, 3.0, 7.0)\n",
      "6.36 s ± 9.48 ms per loop (mean ± std. dev. of 7 runs, 10 loops each)\n",
      "956 µs ± 7.02 µs per loop (mean ± std. dev. of 7 runs, 100 loops each)\n"
     ]
    }
   ],
   "metadata": {}
  }
 ],
 "metadata": {
  "interpreter": {
   "hash": "fd325efec9a68db077b8754384aa777333950c564b1fdcf078307eae7d5f181a"
  },
  "kernelspec": {
   "display_name": "Python 3.9.5 64-bit ('tcc': conda)",
   "name": "python3"
  },
  "language_info": {
   "codemirror_mode": {
    "name": "ipython",
    "version": 3
   },
   "file_extension": ".py",
   "mimetype": "text/x-python",
   "name": "python",
   "nbconvert_exporter": "python",
   "pygments_lexer": "ipython3",
   "version": "3.9.5"
  },
  "orig_nbformat": 4
 },
 "nbformat": 4,
 "nbformat_minor": 2
}