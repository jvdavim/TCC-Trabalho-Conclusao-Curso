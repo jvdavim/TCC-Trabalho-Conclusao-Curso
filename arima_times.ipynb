{
 "cells": [
  {
   "cell_type": "code",
   "execution_count": 1,
   "metadata": {},
   "outputs": [],
   "source": [
    "import pandas as pd\n",
    "from statsmodels.tsa.arima.model import ARIMA"
   ]
  },
  {
   "cell_type": "code",
   "execution_count": 2,
   "metadata": {},
   "outputs": [],
   "source": [
    "TEST_SIZE = 7\n",
    "DATSETS = [\n",
    "    '/home/jvdavim/git/TCC-Trabalho-Conclusao-Curso/data/covid/casos_confirmados.csv',\n",
    "    '/home/jvdavim/git/TCC-Trabalho-Conclusao-Curso/data/sinteticos/sinteticos.csv',\n",
    "    '/home/jvdavim/git/TCC-Trabalho-Conclusao-Curso/data/temperatura_minima_diaria/temperaturas.csv'\n",
    "]\n",
    "ORDER = (1, 1, 1)"
   ]
  },
  {
   "cell_type": "code",
   "execution_count": 5,
   "metadata": {},
   "outputs": [
    {
     "name": "stdout",
     "output_type": "stream",
     "text": [
      "145 ms ± 17.2 ms per loop (mean ± std. dev. of 7 runs, 1 loop each)\n",
      "3.69 ms ± 1.02 ms per loop (mean ± std. dev. of 7 runs, 100 loops each)\n"
     ]
    }
   ],
   "source": [
    "ts = pd.read_csv('/home/jvdavim/git/TCC-Trabalho-Conclusao-Curso/data/covid/casos_confirmados.csv', index_col=0, sep=';')\n",
    "train_ts = ts.iloc[:-TEST_SIZE].values\n",
    "%timeit ARIMA(train_ts, order=ORDER, enforce_stationarity=False, enforce_invertibility=False).fit()\n",
    "model = ARIMA(train_ts, order=ORDER, enforce_stationarity=False, enforce_invertibility=False).fit()\n",
    "%timeit forecast = model.forecast(steps=TEST_SIZE)"
   ]
  },
  {
   "cell_type": "code",
   "execution_count": 6,
   "metadata": {},
   "outputs": [
    {
     "name": "stdout",
     "output_type": "stream",
     "text": [
      "86.3 ms ± 21.1 ms per loop (mean ± std. dev. of 7 runs, 10 loops each)\n",
      "3.13 ms ± 185 µs per loop (mean ± std. dev. of 7 runs, 100 loops each)\n"
     ]
    }
   ],
   "source": [
    "ts = pd.read_csv('/home/jvdavim/git/TCC-Trabalho-Conclusao-Curso/data/sinteticos/sinteticos.csv', index_col=0, sep=';')\n",
    "train_ts = ts.iloc[:-TEST_SIZE].values\n",
    "%timeit ARIMA(train_ts, order=ORDER, enforce_stationarity=False, enforce_invertibility=False).fit()\n",
    "model = ARIMA(train_ts, order=ORDER, enforce_stationarity=False, enforce_invertibility=False).fit()\n",
    "%timeit forecast = model.forecast(steps=TEST_SIZE)"
   ]
  },
  {
   "cell_type": "code",
   "execution_count": 7,
   "metadata": {},
   "outputs": [
    {
     "name": "stdout",
     "output_type": "stream",
     "text": [
      "579 ms ± 88.6 ms per loop (mean ± std. dev. of 7 runs, 1 loop each)\n",
      "3.65 ms ± 607 µs per loop (mean ± std. dev. of 7 runs, 100 loops each)\n"
     ]
    }
   ],
   "source": [
    "ts = pd.read_csv('/home/jvdavim/git/TCC-Trabalho-Conclusao-Curso/data/temperatura_minima_diaria/temperaturas.csv', index_col=0, sep=';')\n",
    "train_ts = ts.iloc[:-TEST_SIZE].values\n",
    "%timeit ARIMA(train_ts, order=ORDER, enforce_stationarity=False, enforce_invertibility=False).fit()\n",
    "model = ARIMA(train_ts, order=ORDER, enforce_stationarity=False, enforce_invertibility=False).fit()\n",
    "%timeit forecast = model.forecast(steps=TEST_SIZE)"
   ]
  }
 ],
 "metadata": {
  "interpreter": {
   "hash": "fd325efec9a68db077b8754384aa777333950c564b1fdcf078307eae7d5f181a"
  },
  "kernelspec": {
   "display_name": "Python 3.9.5 64-bit ('tcc': conda)",
   "name": "python3"
  },
  "language_info": {
   "codemirror_mode": {
    "name": "ipython",
    "version": 3
   },
   "file_extension": ".py",
   "mimetype": "text/x-python",
   "name": "python",
   "nbconvert_exporter": "python",
   "pygments_lexer": "ipython3",
   "version": "3.9.5"
  },
  "orig_nbformat": 4
 },
 "nbformat": 4,
 "nbformat_minor": 2
}