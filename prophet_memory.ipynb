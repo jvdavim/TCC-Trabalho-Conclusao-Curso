{
 "cells": [
  {
   "cell_type": "code",
   "execution_count": 1,
   "source": [
    "import os\n",
    "import warnings\n",
    "\n",
    "import numpy as np\n",
    "import pandas as pd\n",
    "\n",
    "from fbprophet import Prophet\n",
    "\n",
    "%load_ext memory_profiler"
   ],
   "outputs": [
    {
     "output_type": "stream",
     "name": "stderr",
     "text": [
      "Importing plotly failed. Interactive plots will not work.\n"
     ]
    }
   ],
   "metadata": {}
  },
  {
   "cell_type": "code",
   "execution_count": 2,
   "source": [
    "test_size = 7\n",
    "datasets = [{\n",
    "    'name': 'casos_confirmados',\n",
    "    'path': 'data/covid/casos_confirmados.csv'\n",
    "}, {\n",
    "    'name': 'sinteticos',\n",
    "    'path': 'data/sinteticos/sinteticos.csv'\n",
    "}, {\n",
    "    'name': 'temperaturas',\n",
    "    'path': 'data/temperatura_minima_diaria/temperaturas.csv'\n",
    "}]\n",
    "metrics = ['rmse', 'mape', 'mae', 'mpe']"
   ],
   "outputs": [],
   "metadata": {}
  },
  {
   "cell_type": "code",
   "execution_count": 3,
   "source": [
    "parameters = {\n",
    "    'growth': 'linear',\n",
    "    'changepoints': None,\n",
    "    'n_changepoints': 25,\n",
    "    'changepoint_range': 0.8,\n",
    "    'yearly_seasonality': 'auto',\n",
    "    'weekly_seasonality': 'auto',\n",
    "    'daily_seasonality': 'auto',\n",
    "    'holidays': None,\n",
    "    'seasonality_mode': 'additive',\n",
    "    'seasonality_prior_scale': 10.0,\n",
    "    'holidays_prior_scale': 10.0,\n",
    "    'changepoint_prior_scale': 0.05,\n",
    "    'mcmc_samples': 0,\n",
    "    'interval_width': 0.80,\n",
    "    'uncertainty_samples': 1000,\n",
    "    'stan_backend': None\n",
    "}"
   ],
   "outputs": [],
   "metadata": {}
  },
  {
   "cell_type": "code",
   "execution_count": 5,
   "source": [
    "warnings.filterwarnings('ignore')\n",
    "for dataset in datasets:\n",
    "    ts = pd.read_csv(dataset['path'], sep=';')\n",
    "    ts.columns = ['ds', 'y']\n",
    "\n",
    "    if dataset['name'] == 'casos_confirmados':\n",
    "        parameters['growth'] = 'logistic'\n",
    "        ts['floor'] = 0\n",
    "        ts['cap'] = 2000\n",
    "        parameters['daily_seasonality'] = False\n",
    "        parameters['weekly_seasonality'] = True\n",
    "        parameters['yearly_seasonality'] = False\n",
    "    elif dataset['name'] == 'temperaturas':\n",
    "        parameters['growth'] = 'logistic'\n",
    "        ts['cap'] = 30\n",
    "        ts['floor'] = -5\n",
    "        parameters['daily_seasonality'] = True\n",
    "        parameters['weekly_seasonality'] = False\n",
    "        parameters['yearly_seasonality'] = True\n",
    "    else:\n",
    "        ts['cap'] = None\n",
    "        ts['floor'] = None\n",
    "        parameters['daily_seasonality'] = False\n",
    "        parameters['weekly_seasonality'] = True\n",
    "        parameters['yearly_seasonality'] = False\n",
    "\n",
    "    grid_results_df = pd.read_csv(os.path.join('results/prophet', f\"{dataset['name']}_grid_results.csv\"), sep=';')\n",
    "\n",
    "    for metric in metrics:\n",
    "        print(f\"Dataset: {dataset['name']} | Optimization Metric: {metric.upper()}\")\n",
    "\n",
    "        best = grid_results_df[grid_results_df[metric].abs().eq(grid_results_df[metric].abs().min())].iloc[0]\n",
    "        params = best.iloc[:-4].to_dict()\n",
    "        params = {k: v for k, v in params.items() if not (np.isnan(v) if type(v) == np.float64 else False)}\n",
    "        parameters.update(params)\n",
    "        print(f\"Parameters: {' '.join(['{}={}'.format(pkey, pvalue) for pkey, pvalue in parameters.items()])}\")\n",
    "        try:\n",
    "            m = Prophet(**parameters).fit(ts)  # Fit model with given params\n",
    "            future = m.make_future_dataframe(periods=test_size)\n",
    "            future['floor'] = ts.loc[:, 'floor'].iloc[0]\n",
    "            future['cap'] = ts.loc[:, 'cap'].iloc[0]\n",
    "            forecast = m.predict(future)\n",
    "            predicted = forecast.loc[:, 'yhat'].iloc[-test_size:].values\n",
    "        except RuntimeError:\n",
    "            print(f'[ERROR] Error with following hyperparameters: {parameters}')\n",
    "        \n",
    "\n",
    "\n",
    "        # Train ReW model with selected hyperparams and train + validation data\n",
    "        %memit model = RegressionWisardEstimator(ts, thermometer, addr, order=order, mean=mean).fit()\n",
    "        %memit forecast = model.forecast(steps=test_size)"
   ],
   "outputs": [
    {
     "output_type": "stream",
     "name": "stdout",
     "text": [
      "Dataset: casos_confirmados | Optimization Metric: RMSE\n"
     ]
    },
    {
     "output_type": "error",
     "ename": "AttributeError",
     "evalue": "'Series' object has no attribute 't_size'",
     "traceback": [
      "\u001b[0;31m---------------------------------------------------------------------------\u001b[0m",
      "\u001b[0;31mAttributeError\u001b[0m                            Traceback (most recent call last)",
      "\u001b[0;32m<ipython-input-5-453ffecc6c49>\u001b[0m in \u001b[0;36m<module>\u001b[0;34m\u001b[0m\n\u001b[1;32m     31\u001b[0m \u001b[0;34m\u001b[0m\u001b[0m\n\u001b[1;32m     32\u001b[0m         \u001b[0mbest\u001b[0m \u001b[0;34m=\u001b[0m \u001b[0mgrid_results_df\u001b[0m\u001b[0;34m[\u001b[0m\u001b[0mgrid_results_df\u001b[0m\u001b[0;34m[\u001b[0m\u001b[0mmetric\u001b[0m\u001b[0;34m]\u001b[0m\u001b[0;34m.\u001b[0m\u001b[0mabs\u001b[0m\u001b[0;34m(\u001b[0m\u001b[0;34m)\u001b[0m\u001b[0;34m.\u001b[0m\u001b[0meq\u001b[0m\u001b[0;34m(\u001b[0m\u001b[0mgrid_results_df\u001b[0m\u001b[0;34m[\u001b[0m\u001b[0mmetric\u001b[0m\u001b[0;34m]\u001b[0m\u001b[0;34m.\u001b[0m\u001b[0mabs\u001b[0m\u001b[0;34m(\u001b[0m\u001b[0;34m)\u001b[0m\u001b[0;34m.\u001b[0m\u001b[0mmin\u001b[0m\u001b[0;34m(\u001b[0m\u001b[0;34m)\u001b[0m\u001b[0;34m)\u001b[0m\u001b[0;34m]\u001b[0m\u001b[0;34m.\u001b[0m\u001b[0miloc\u001b[0m\u001b[0;34m[\u001b[0m\u001b[0;36m0\u001b[0m\u001b[0;34m]\u001b[0m\u001b[0;34m\u001b[0m\u001b[0;34m\u001b[0m\u001b[0m\n\u001b[0;32m---> 33\u001b[0;31m         \u001b[0mthermometer\u001b[0m \u001b[0;34m=\u001b[0m \u001b[0;34m(\u001b[0m\u001b[0mbest\u001b[0m\u001b[0;34m.\u001b[0m\u001b[0mt_size\u001b[0m\u001b[0;34m,\u001b[0m \u001b[0mbest\u001b[0m\u001b[0;34m.\u001b[0m\u001b[0mt_min\u001b[0m\u001b[0;34m,\u001b[0m \u001b[0mbest\u001b[0m\u001b[0;34m.\u001b[0m\u001b[0mt_max\u001b[0m\u001b[0;34m)\u001b[0m\u001b[0;34m\u001b[0m\u001b[0;34m\u001b[0m\u001b[0m\n\u001b[0m\u001b[1;32m     34\u001b[0m         \u001b[0morder\u001b[0m \u001b[0;34m=\u001b[0m \u001b[0;34m(\u001b[0m\u001b[0mbest\u001b[0m\u001b[0;34m.\u001b[0m\u001b[0mp\u001b[0m\u001b[0;34m,\u001b[0m \u001b[0mbest\u001b[0m\u001b[0;34m.\u001b[0m\u001b[0md\u001b[0m\u001b[0;34m,\u001b[0m \u001b[0mbest\u001b[0m\u001b[0;34m.\u001b[0m\u001b[0mq\u001b[0m\u001b[0;34m)\u001b[0m\u001b[0;34m\u001b[0m\u001b[0;34m\u001b[0m\u001b[0m\n\u001b[1;32m     35\u001b[0m         \u001b[0maddr\u001b[0m \u001b[0;34m=\u001b[0m \u001b[0mbest\u001b[0m\u001b[0;34m.\u001b[0m\u001b[0maddr\u001b[0m\u001b[0;34m\u001b[0m\u001b[0;34m\u001b[0m\u001b[0m\n",
      "\u001b[0;32m~/miniconda3/envs/tcc/lib/python3.8/site-packages/pandas/core/generic.py\u001b[0m in \u001b[0;36m__getattr__\u001b[0;34m(self, name)\u001b[0m\n\u001b[1;32m   5137\u001b[0m             \u001b[0;32mif\u001b[0m \u001b[0mself\u001b[0m\u001b[0;34m.\u001b[0m\u001b[0m_info_axis\u001b[0m\u001b[0;34m.\u001b[0m\u001b[0m_can_hold_identifiers_and_holds_name\u001b[0m\u001b[0;34m(\u001b[0m\u001b[0mname\u001b[0m\u001b[0;34m)\u001b[0m\u001b[0;34m:\u001b[0m\u001b[0;34m\u001b[0m\u001b[0;34m\u001b[0m\u001b[0m\n\u001b[1;32m   5138\u001b[0m                 \u001b[0;32mreturn\u001b[0m \u001b[0mself\u001b[0m\u001b[0;34m[\u001b[0m\u001b[0mname\u001b[0m\u001b[0;34m]\u001b[0m\u001b[0;34m\u001b[0m\u001b[0;34m\u001b[0m\u001b[0m\n\u001b[0;32m-> 5139\u001b[0;31m             \u001b[0;32mreturn\u001b[0m \u001b[0mobject\u001b[0m\u001b[0;34m.\u001b[0m\u001b[0m__getattribute__\u001b[0m\u001b[0;34m(\u001b[0m\u001b[0mself\u001b[0m\u001b[0;34m,\u001b[0m \u001b[0mname\u001b[0m\u001b[0;34m)\u001b[0m\u001b[0;34m\u001b[0m\u001b[0;34m\u001b[0m\u001b[0m\n\u001b[0m\u001b[1;32m   5140\u001b[0m \u001b[0;34m\u001b[0m\u001b[0m\n\u001b[1;32m   5141\u001b[0m     \u001b[0;32mdef\u001b[0m \u001b[0m__setattr__\u001b[0m\u001b[0;34m(\u001b[0m\u001b[0mself\u001b[0m\u001b[0;34m,\u001b[0m \u001b[0mname\u001b[0m\u001b[0;34m:\u001b[0m \u001b[0mstr\u001b[0m\u001b[0;34m,\u001b[0m \u001b[0mvalue\u001b[0m\u001b[0;34m)\u001b[0m \u001b[0;34m->\u001b[0m \u001b[0;32mNone\u001b[0m\u001b[0;34m:\u001b[0m\u001b[0;34m\u001b[0m\u001b[0;34m\u001b[0m\u001b[0m\n",
      "\u001b[0;31mAttributeError\u001b[0m: 'Series' object has no attribute 't_size'"
     ]
    }
   ],
   "metadata": {}
  }
 ],
 "metadata": {
  "interpreter": {
   "hash": "fd325efec9a68db077b8754384aa777333950c564b1fdcf078307eae7d5f181a"
  },
  "kernelspec": {
   "name": "python3",
   "display_name": "Python 3.8.5 64-bit ('tcc': conda)"
  },
  "language_info": {
   "name": "python",
   "version": "3.8.5",
   "mimetype": "text/x-python",
   "codemirror_mode": {
    "name": "ipython",
    "version": 3
   },
   "pygments_lexer": "ipython3",
   "nbconvert_exporter": "python",
   "file_extension": ".py"
  },
  "orig_nbformat": 4
 },
 "nbformat": 4,
 "nbformat_minor": 2
}