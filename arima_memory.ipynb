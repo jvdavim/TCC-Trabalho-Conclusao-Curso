{
 "cells": [
  {
   "cell_type": "code",
   "execution_count": 1,
   "source": [
    "import os\n",
    "import warnings\n",
    "\n",
    "import pandas as pd\n",
    "from statsmodels.tsa.arima.model import ARIMA\n",
    "\n",
    "%load_ext memory_profiler"
   ],
   "outputs": [],
   "metadata": {}
  },
  {
   "cell_type": "code",
   "execution_count": 2,
   "source": [
    "test_size = 7\n",
    "datasets = [{\n",
    "    'name': 'casos_confirmados',\n",
    "    'path': 'data/covid/casos_confirmados.csv'\n",
    "}, {\n",
    "    'name': 'sinteticos',\n",
    "    'path': 'data/sinteticos/sinteticos.csv'\n",
    "}, {\n",
    "    'name': 'temperaturas',\n",
    "    'path': 'data/temperatura_minima_diaria/temperaturas.csv'\n",
    "}]\n",
    "metrics = ['rmse', 'mape', 'mae', 'mpe']"
   ],
   "outputs": [],
   "metadata": {}
  },
  {
   "cell_type": "code",
   "execution_count": 3,
   "source": [
    "warnings.filterwarnings('ignore')\n",
    "for dataset in datasets:\n",
    "    ts = pd.read_csv(dataset['path'], index_col=0, sep=';').values\n",
    "    grid_results_df = pd.read_csv(os.path.join('results/arima', f\"{dataset['name']}_grid_results.csv\"), sep=';')\n",
    "    for metric in metrics:\n",
    "        print(f\"Dataset: {dataset['name']} | Optimization Metric: {metric.upper()}\")\n",
    "\n",
    "        best = grid_results_df[grid_results_df[metric].abs().eq(grid_results_df[metric].abs().min())].iloc[0]\n",
    "        order = (best.p, best.d, best.q)\n",
    "        print(f\"Parameters: Order={order}\")\n",
    "        \n",
    "        %memit model = ARIMA(ts, order=order, enforce_stationarity=False, enforce_invertibility=False).fit()\n",
    "        %memit forecast = model.forecast(steps=test_size)"
   ],
   "outputs": [
    {
     "output_type": "stream",
     "name": "stdout",
     "text": [
      "Dataset: casos_confirmados | Optimization Metric: RMSE\n",
      "Parameters: Order=(0.0, 4.0, 4.0)\n",
      "peak memory: 133.88 MiB, increment: 11.12 MiB\n",
      "peak memory: 134.54 MiB, increment: 0.64 MiB\n",
      "Dataset: casos_confirmados | Optimization Metric: MAPE\n",
      "Parameters: Order=(1.0, 4.0, 6.0)\n",
      "peak memory: 142.07 MiB, increment: 7.54 MiB\n",
      "peak memory: 142.08 MiB, increment: 0.00 MiB\n",
      "Dataset: casos_confirmados | Optimization Metric: MAE\n",
      "Parameters: Order=(0.0, 4.0, 4.0)\n",
      "peak memory: 142.59 MiB, increment: 0.52 MiB\n",
      "peak memory: 142.59 MiB, increment: 0.00 MiB\n",
      "Dataset: casos_confirmados | Optimization Metric: MPE\n",
      "Parameters: Order=(0.0, 4.0, 8.0)\n",
      "peak memory: 147.14 MiB, increment: 4.55 MiB\n",
      "peak memory: 147.14 MiB, increment: 0.00 MiB\n",
      "Dataset: sinteticos | Optimization Metric: RMSE\n",
      "Parameters: Order=(0.0, 0.0, 0.0)\n",
      "peak memory: 144.59 MiB, increment: -2.55 MiB\n",
      "peak memory: 144.59 MiB, increment: 0.00 MiB\n",
      "Dataset: sinteticos | Optimization Metric: MAPE\n",
      "Parameters: Order=(0.0, 0.0, 0.0)\n",
      "peak memory: 144.60 MiB, increment: 0.01 MiB\n",
      "peak memory: 144.61 MiB, increment: 0.00 MiB\n",
      "Dataset: sinteticos | Optimization Metric: MAE\n",
      "Parameters: Order=(0.0, 0.0, 0.0)\n",
      "peak memory: 144.61 MiB, increment: 0.00 MiB\n",
      "peak memory: 144.61 MiB, increment: 0.00 MiB\n",
      "Dataset: sinteticos | Optimization Metric: MPE\n",
      "Parameters: Order=(5.0, 5.0, 4.0)\n",
      "peak memory: 144.62 MiB, increment: 0.01 MiB\n",
      "peak memory: 144.62 MiB, increment: 0.00 MiB\n",
      "Dataset: temperaturas | Optimization Metric: RMSE\n",
      "Parameters: Order=(2.0, 3.0, 6.0)\n",
      "peak memory: 178.27 MiB, increment: 33.48 MiB\n",
      "peak memory: 178.43 MiB, increment: 0.15 MiB\n",
      "Dataset: temperaturas | Optimization Metric: MAPE\n",
      "Parameters: Order=(2.0, 3.0, 6.0)\n",
      "peak memory: 214.25 MiB, increment: 35.83 MiB\n",
      "peak memory: 187.08 MiB, increment: 0.00 MiB\n",
      "Dataset: temperaturas | Optimization Metric: MAE\n",
      "Parameters: Order=(2.0, 3.0, 6.0)\n",
      "peak memory: 214.71 MiB, increment: 27.64 MiB\n",
      "peak memory: 181.84 MiB, increment: 0.00 MiB\n",
      "Dataset: temperaturas | Optimization Metric: MPE\n",
      "Parameters: Order=(1.0, 3.0, 7.0)\n",
      "peak memory: 223.07 MiB, increment: 41.23 MiB\n",
      "peak memory: 223.09 MiB, increment: 0.02 MiB\n"
     ]
    }
   ],
   "metadata": {}
  }
 ],
 "metadata": {
  "interpreter": {
   "hash": "fd325efec9a68db077b8754384aa777333950c564b1fdcf078307eae7d5f181a"
  },
  "kernelspec": {
   "name": "python3",
   "display_name": "Python 3.8.5 64-bit ('tcc': conda)"
  },
  "language_info": {
   "codemirror_mode": {
    "name": "ipython",
    "version": 3
   },
   "file_extension": ".py",
   "mimetype": "text/x-python",
   "name": "python",
   "nbconvert_exporter": "python",
   "pygments_lexer": "ipython3",
   "version": "3.8.5"
  },
  "orig_nbformat": 4
 },
 "nbformat": 4,
 "nbformat_minor": 2
}