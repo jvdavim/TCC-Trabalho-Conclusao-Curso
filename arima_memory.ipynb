{
 "cells": [
  {
   "cell_type": "code",
   "execution_count": 1,
   "metadata": {},
   "outputs": [],
   "source": [
    "import pandas as pd\n",
    "from statsmodels.tsa.arima.model import ARIMA\n",
    "%load_ext memory_profiler"
   ]
  },
  {
   "cell_type": "code",
   "execution_count": 2,
   "metadata": {},
   "outputs": [],
   "source": [
    "TEST_SIZE = 7\n",
    "DATSETS = [\n",
    "    '/home/jvdavim/git/TCC-Trabalho-Conclusao-Curso/data/covid/casos_confirmados.csv',\n",
    "    '/home/jvdavim/git/TCC-Trabalho-Conclusao-Curso/data/sinteticos/sinteticos.csv',\n",
    "    '/home/jvdavim/git/TCC-Trabalho-Conclusao-Curso/data/temperatura_minima_diaria/temperaturas.csv'\n",
    "]\n",
    "ORDER = (1, 1, 1)\n"
   ]
  },
  {
   "cell_type": "code",
   "execution_count": 3,
   "metadata": {},
   "outputs": [
    {
     "name": "stdout",
     "output_type": "stream",
     "text": [
      "peak memory: 132.29 MiB, increment: 5.94 MiB\n",
      "peak memory: 132.38 MiB, increment: 0.09 MiB\n"
     ]
    }
   ],
   "source": [
    "ts = pd.read_csv('/home/jvdavim/git/TCC-Trabalho-Conclusao-Curso/data/covid/casos_confirmados.csv', index_col=0, sep=';')\n",
    "train_ts = ts.iloc[:-TEST_SIZE].values\n",
    "%memit model = ARIMA(train_ts, order=ORDER, enforce_stationarity=False, enforce_invertibility=False).fit()\n",
    "%memit forecast = model.forecast(steps=TEST_SIZE)"
   ]
  },
  {
   "cell_type": "code",
   "execution_count": 4,
   "metadata": {},
   "outputs": [
    {
     "name": "stdout",
     "output_type": "stream",
     "text": [
      "peak memory: 132.58 MiB, increment: 0.02 MiB\n",
      "peak memory: 132.99 MiB, increment: 0.41 MiB\n"
     ]
    }
   ],
   "source": [
    "ts = pd.read_csv('/home/jvdavim/git/TCC-Trabalho-Conclusao-Curso/data/sinteticos/sinteticos.csv', index_col=0, sep=';')\n",
    "train_ts = ts.iloc[:-TEST_SIZE].values\n",
    "%memit model = ARIMA(train_ts, order=ORDER, enforce_stationarity=False, enforce_invertibility=False).fit()\n",
    "%memit forecast = model.forecast(steps=TEST_SIZE)"
   ]
  },
  {
   "cell_type": "code",
   "execution_count": 5,
   "metadata": {},
   "outputs": [
    {
     "name": "stdout",
     "output_type": "stream",
     "text": [
      "peak memory: 138.32 MiB, increment: 4.88 MiB\n",
      "peak memory: 138.32 MiB, increment: 0.00 MiB\n"
     ]
    }
   ],
   "source": [
    "ts = pd.read_csv('/home/jvdavim/git/TCC-Trabalho-Conclusao-Curso/data/temperatura_minima_diaria/temperaturas.csv', index_col=0, sep=';')\n",
    "train_ts = ts.iloc[:-TEST_SIZE].values\n",
    "%memit model = ARIMA(train_ts, order=ORDER, enforce_stationarity=False, enforce_invertibility=False).fit()\n",
    "%memit forecast = model.forecast(steps=TEST_SIZE)"
   ]
  }
 ],
 "metadata": {
  "interpreter": {
   "hash": "fd325efec9a68db077b8754384aa777333950c564b1fdcf078307eae7d5f181a"
  },
  "kernelspec": {
   "display_name": "Python 3.9.5 64-bit ('tcc': conda)",
   "name": "python3"
  },
  "language_info": {
   "codemirror_mode": {
    "name": "ipython",
    "version": 3
   },
   "file_extension": ".py",
   "mimetype": "text/x-python",
   "name": "python",
   "nbconvert_exporter": "python",
   "pygments_lexer": "ipython3",
   "version": "3.9.5"
  },
  "orig_nbformat": 4
 },
 "nbformat": 4,
 "nbformat_minor": 2
}